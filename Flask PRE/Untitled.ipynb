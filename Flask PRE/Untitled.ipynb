{
 "cells": [
  {
   "cell_type": "code",
   "execution_count": 1,
   "metadata": {},
   "outputs": [],
   "source": [
    "import json\n",
    "import base64\n",
    "from npre import bbs98"
   ]
  },
  {
   "cell_type": "code",
   "execution_count": 2,
   "metadata": {},
   "outputs": [],
   "source": [
    "    pre = bbs98.PRE()\n",
    "\t\n",
    "\t#Keys of person A\n",
    "    sk_A = pre.gen_priv(dtype=bytes)\n",
    "    pk_A = pre.priv2pub(sk_A)\n",
    "\t\n",
    "\t#Keys of person B\n",
    "    sk_B = pre.gen_priv(dtype=bytes)\n",
    "    pk_B = pre.priv2pub(sk_B)\n",
    "\t\n",
    "\t#Keys Ephimeral\n",
    "    sk_Eph = pre.gen_priv(dtype=bytes)\n",
    "\t\n",
    "\t#Reencryption Key\n",
    "    reeK = pre.rekey(sk_A, sk_Eph)"
   ]
  },
  {
   "cell_type": "code",
   "execution_count": 7,
   "metadata": {},
   "outputs": [
    {
     "data": {
      "text/plain": [
       "b'\\x00\\xda\\xda|\\xf8uZU\\x14\\xfb\\xcb\\x9f|\\xde#2\\x07\\x84`AH\\x8d\\xa8\\xa8l\\xe6\\x96>\\xb2\\x12\\xe7.\\xb0'"
      ]
     },
     "execution_count": 7,
     "metadata": {},
     "output_type": "execute_result"
    }
   ],
   "source": [
    "sk_Eph"
   ]
  },
  {
   "cell_type": "code",
   "execution_count": 4,
   "metadata": {},
   "outputs": [
    {
     "name": "stderr",
     "output_type": "stream",
     "text": [
      "/home/macienrique/.local/lib/python3.5/site-packages/ipykernel_launcher.py:1: DeprecationWarning: encodestring() is a deprecated alias, use encodebytes()\n",
      "  \"\"\"Entry point for launching an IPython kernel.\n",
      "/home/macienrique/.local/lib/python3.5/site-packages/ipykernel_launcher.py:2: DeprecationWarning: encodestring() is a deprecated alias, use encodebytes()\n",
      "  \n",
      "/home/macienrique/.local/lib/python3.5/site-packages/ipykernel_launcher.py:4: DeprecationWarning: encodestring() is a deprecated alias, use encodebytes()\n",
      "  after removing the cwd from sys.path.\n",
      "/home/macienrique/.local/lib/python3.5/site-packages/ipykernel_launcher.py:5: DeprecationWarning: encodestring() is a deprecated alias, use encodebytes()\n",
      "  \"\"\"\n",
      "/home/macienrique/.local/lib/python3.5/site-packages/ipykernel_launcher.py:7: DeprecationWarning: encodestring() is a deprecated alias, use encodebytes()\n",
      "  import sys\n",
      "/home/macienrique/.local/lib/python3.5/site-packages/ipykernel_launcher.py:9: DeprecationWarning: encodestring() is a deprecated alias, use encodebytes()\n",
      "  if __name__ == '__main__':\n"
     ]
    },
    {
     "data": {
      "text/plain": [
       "b'\\x00\\xc1\\x87-\\xe1< ^\\xf6\\x8db\\xb8Y\\xd15/\\x0fe6\\xc7\\xdb\\xbe\\xcd?\\x00n\\n=\\xcf\\x7f7@\\xc5'"
      ]
     },
     "execution_count": 4,
     "metadata": {},
     "output_type": "execute_result"
    }
   ],
   "source": [
    "sk_Asend = base64.encodestring(sk_A).decode('ascii')\n",
    "pk_Asend = base64.encodestring(pk_A).decode('ascii')\n",
    "\n",
    "sk_Bsend = base64.encodestring(sk_B).decode('ascii')\n",
    "pk_Bsend = base64.encodestring(pk_B).decode('ascii')\n",
    "\n",
    "sk_Ephsend = base64.encodestring(sk_Eph).decode('ascii')\n",
    "\n",
    "reeKsend = base64.encodestring(reeK).decode('ascii')\n",
    "sk_B"
   ]
  },
  {
   "cell_type": "code",
   "execution_count": 6,
   "metadata": {},
   "outputs": [
    {
     "data": {
      "text/plain": [
       "b'\\x00\\xda\\xda|\\xf8uZU\\x14\\xfb\\xcb\\x9f|\\xde#2\\x07\\x84`AH\\x8d\\xa8\\xa8l\\xe6\\x96>\\xb2\\x12\\xe7.\\xb0'"
      ]
     },
     "execution_count": 6,
     "metadata": {},
     "output_type": "execute_result"
    }
   ],
   "source": [
    "sk_Arec = base64.b64decode(sk_Asend)\n",
    "sk_Brec = base64.b64decode(pk_Asend)\n",
    "\n",
    "sk_Brec = base64.b64decode(sk_Bsend)\n",
    "pk_Brec = base64.b64decode(pk_Bsend)\n",
    "\n",
    "sk_Ephrec = base64.b64decode(sk_Ephsend)\n",
    "reeKrec = base64.b64decode(reeKsend)\n",
    "sk_Ephrec"
   ]
  },
  {
   "cell_type": "code",
   "execution_count": 8,
   "metadata": {},
   "outputs": [
    {
     "data": {
      "text/plain": [
       "b'\\x93\\xda\\x00\"\\x01\\x03\\xea#\\xd8\\x0f\\xfd!\\xba\\xcf\\x0f~\\xb8\\xd2^Y!Ec\\xe1e\\xf7\\x9a1!\\xabY&\\xb6\\xd5\\n \\xba\\x8d\\xda\\x00\"\\x01\\x02\\xf7$\\x14\\xe2\\xf5\\x04\\x91\\xa1\\xa9\\xf3M\\'\\xd0\\xba\\xc8\\x19`$\\x94\\x8b\\x9a\\xa8\\xe8\\x81\\x8e\\x10\\xf2\\x13b\\xdf&\\x02\\xda\\x00\"\\x01\\x02\\x97\\t\\x95\\xa4=.\\xe4\\xd7v`\\xefz\\x9f\\xb6^\\x83\\xe9\\x06\\xf6\\xc4\\xb9\\x96\\\\\\x19\\xce\\x86\\x9f4\\xff\\xd1/('"
      ]
     },
     "execution_count": 8,
     "metadata": {},
     "output_type": "execute_result"
    }
   ],
   "source": [
    "BEphPK = pre.encrypt(pk_Brec, sk_Ephrec)\n",
    "BEphPK"
   ]
  },
  {
   "cell_type": "code",
   "execution_count": 9,
   "metadata": {},
   "outputs": [
    {
     "name": "stderr",
     "output_type": "stream",
     "text": [
      "/home/macienrique/.local/lib/python3.5/site-packages/ipykernel_launcher.py:1: DeprecationWarning: encodestring() is a deprecated alias, use encodebytes()\n",
      "  \"\"\"Entry point for launching an IPython kernel.\n"
     ]
    }
   ],
   "source": [
    "BEphPKsend = base64.encodestring(BEphPK).decode('ascii')"
   ]
  },
  {
   "cell_type": "code",
   "execution_count": 10,
   "metadata": {},
   "outputs": [
    {
     "data": {
      "text/plain": [
       "b'\\x93\\xda\\x00\"\\x01\\x03\\xea#\\xd8\\x0f\\xfd!\\xba\\xcf\\x0f~\\xb8\\xd2^Y!Ec\\xe1e\\xf7\\x9a1!\\xabY&\\xb6\\xd5\\n \\xba\\x8d\\xda\\x00\"\\x01\\x02\\xf7$\\x14\\xe2\\xf5\\x04\\x91\\xa1\\xa9\\xf3M\\'\\xd0\\xba\\xc8\\x19`$\\x94\\x8b\\x9a\\xa8\\xe8\\x81\\x8e\\x10\\xf2\\x13b\\xdf&\\x02\\xda\\x00\"\\x01\\x02\\x97\\t\\x95\\xa4=.\\xe4\\xd7v`\\xefz\\x9f\\xb6^\\x83\\xe9\\x06\\xf6\\xc4\\xb9\\x96\\\\\\x19\\xce\\x86\\x9f4\\xff\\xd1/('"
      ]
     },
     "execution_count": 10,
     "metadata": {},
     "output_type": "execute_result"
    }
   ],
   "source": [
    "BEphPKrec = base64.b64decode(BEphPKsend)\n",
    "BEphPKrec"
   ]
  },
  {
   "cell_type": "code",
   "execution_count": 12,
   "metadata": {},
   "outputs": [
    {
     "data": {
      "text/plain": [
       "b'\\x00\\xda\\xda|\\xf8uZU\\x14\\xfb\\xcb\\x9f|\\xde#2\\x07\\x84`AH\\x8d\\xa8\\xa8l\\xe6\\x96>\\xb2\\x12\\xe7.\\xb0'"
      ]
     },
     "execution_count": 12,
     "metadata": {},
     "output_type": "execute_result"
    }
   ],
   "source": [
    "sk_Eph"
   ]
  },
  {
   "cell_type": "code",
   "execution_count": 11,
   "metadata": {},
   "outputs": [
    {
     "data": {
      "text/plain": [
       "b'\\x00\\xda\\xda|\\xf8uZU\\x14\\xfb\\xcb\\x9f|\\xde#2\\x07\\x84`AH\\x8d\\xa8\\xa8l\\xe6\\x96>\\xb2\\x12\\xe7.\\xb0'"
      ]
     },
     "execution_count": 11,
     "metadata": {},
     "output_type": "execute_result"
    }
   ],
   "source": [
    "pre.decrypt(sk_Brec, BEphPKrec)"
   ]
  },
  {
   "cell_type": "code",
   "execution_count": null,
   "metadata": {},
   "outputs": [],
   "source": [
    "OLD SCHOOL"
   ]
  },
  {
   "cell_type": "code",
   "execution_count": 22,
   "metadata": {},
   "outputs": [
    {
     "data": {
      "text/plain": [
       "b'\\x93\\xda\\x00\"\\x01\\x03\\xc1\\x82\\xe5\\\\U\\xc6`\\xe5\\xe8j*\\\\\\x00\\x18y\\x90\\x89\\xefv\\xaa\\x85\\x83\\x99\\xb4\\xea\\x9c\\t\\x1c\\xa9)\\xcb\\x14\\xda\\x00\"\\x01\\x02\\x8e?\\xba\\x18\\xbb\\x87\\x9c\\xf8\\xcc\\xa7\\xe3\\x8e\\xff|SW \\x08`pJ\\xbc\\xaa\\xd1\\xa9uu4\\xec$x\\xc7\\xda\\x00\"\\x01\\x02k\\xac\\xd8{\\x1d\\x0eZ\\xe1\\xb0(K\\xe4\\x177\\xcd\\xbd&\\xeap\\xbc\\x00[[\\xcb\\xd2\\xcd71Q\\x90\\x85\\x87'"
      ]
     },
     "execution_count": 22,
     "metadata": {},
     "output_type": "execute_result"
    }
   ],
   "source": [
    "oldEph = pre.encrypt(pk_B, sk_Eph)\n",
    "oldEph"
   ]
  },
  {
   "cell_type": "code",
   "execution_count": 20,
   "metadata": {},
   "outputs": [
    {
     "data": {
      "text/plain": [
       "b'\\x00\\xab\\x19\\x052l\\xad\\x97\\x03\\x198\\x9b\\xdc?\\xcaa\\x8dW,+\\x16\\x9fg\\xa1o<\\xaa\\xe8\\xa8\\xb7>\\x16\\xa0'"
      ]
     },
     "execution_count": 20,
     "metadata": {},
     "output_type": "execute_result"
    }
   ],
   "source": [
    "pre.decrypt(sk_B, oldEph)"
   ]
  },
  {
   "cell_type": "code",
   "execution_count": 21,
   "metadata": {},
   "outputs": [
    {
     "data": {
      "text/plain": [
       "b'\\x00\\xab\\x19\\x052l\\xad\\x97\\x03\\x198\\x9b\\xdc?\\xcaa\\x8dW,+\\x16\\x9fg\\xa1o<\\xaa\\xe8\\xa8\\xb7>\\x16\\xa0'"
      ]
     },
     "execution_count": 21,
     "metadata": {},
     "output_type": "execute_result"
    }
   ],
   "source": [
    "sk_Eph"
   ]
  }
 ],
 "metadata": {
  "kernelspec": {
   "display_name": "Python 3",
   "language": "python",
   "name": "python3"
  },
  "language_info": {
   "codemirror_mode": {
    "name": "ipython",
    "version": 3
   },
   "file_extension": ".py",
   "mimetype": "text/x-python",
   "name": "python",
   "nbconvert_exporter": "python",
   "pygments_lexer": "ipython3",
   "version": "3.5.2"
  }
 },
 "nbformat": 4,
 "nbformat_minor": 2
}
